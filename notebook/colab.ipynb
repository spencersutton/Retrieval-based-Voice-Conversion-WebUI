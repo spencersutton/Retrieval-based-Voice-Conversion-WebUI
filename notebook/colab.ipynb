{
 "cells": [
  {
   "cell_type": "markdown",
   "metadata": {
    "colab_type": "text",
    "id": "view-in-github"
   },
   "source": [
    "<a href=\"https://colab.research.google.com/github/BF667/rvc-webgui-fork/blob/main/notebook/colab.ipynb\" target=\"_parent\"><img src=\"https://colab.research.google.com/assets/colab-badge.svg\" alt=\"Open In Colab\"/></a>"
   ]
  },
  {
   "cell_type": "markdown",
   "id": "7TcwDDXnrxfM",
   "metadata": {
    "id": "7TcwDDXnrxfM"
   },
   "source": [
    "<div align=\"center\">\n",
    "<h1> RVC WebGUI Fork\n",
    "\n",
    "A modernized setup for running the RVC WebGUI fork on Google Colab with enhanced dependency management and error handling.\n",
    "\n",
    "\n",
    "\n",
    "[![License](https://img.shields.io/github/license/yamada-sexta/rvc-webgui-fork?style=flat-square)](https://github.com/yamada-sexta/rvc-webgui-fork/blob/main/THIRD_PARTY_NOTICES.md)\n",
    "[![GitHub stars](https://img.shields.io/github/stars/yamada-sexta/rvc-webgui-fork?style=flat-square)](https://github.com/yamada-sexta/rvc-webgui-fork/stargazers)\n",
    "[![GitHub last commit](https://img.shields.io/github/last-commit/yamada-sexta/rvc-webgui-fork?style=flat-square)](https://github.com/yamada-sexta/rvc-webgui-fork/commits/main)\n",
    "[![GitHub issues](https://img.shields.io/github/issues/yamada-sexta/rvc-webgui-fork?style=flat-square)](https://github.com/yamada-sexta/rvc-webgui-fork/issues)\n",
    "[![GitHub pull requests](https://img.shields.io/github/issues-pr/yamada-sexta/rvc-webgui-fork?style=flat-square)](https://github.com/yamada-sexta/rvc-webgui-fork/pulls)\n",
    "\n",
    "</div>"
   ]
  },
  {
   "cell_type": "code",
   "execution_count": null,
   "id": "SJ7_rmbPq3-L",
   "metadata": {
    "cellView": "form",
    "id": "SJ7_rmbPq3-L"
   },
   "outputs": [],
   "source": [
    "# @title Setup Environment\n",
    "# @markdown Clone the repository and install dependencies.\n",
    "\n",
    "import os\n",
    "\n",
    "REPO = \"yamada-sexta/rvc-webgui-fork\"  # @param [\"yamada-sexta/rvc-webgui-fork\", \"BF667/rvc-webgui-fork\"]\n",
    "\n",
    "url = f\"https://github.com/{REPO}.git\"\n",
    "\n",
    "# Clone the repository with depth=1\n",
    "!git clone --depth 1 {url} app\n",
    "%cd app\n",
    "\n",
    "# Install uv if not already installed\n",
    "!pip install uv\n",
    "\n",
    "# Sync dependencies with uv\n",
    "!uv sync --frozen\n",
    "\n",
    "# Download required models\n",
    "!uv run python ./tools/download_models.py\n",
    "\n",
    "# Verify installation\n",
    "if os.path.exists(\"./tools/download_models.py\"):\n",
    "    print(\"Setup completed successfully!\")\n",
    "else:\n",
    "    print(\"Error: Setup failed. Please check the repository and try again.\")"
   ]
  },
  {
   "cell_type": "code",
   "execution_count": null,
   "id": "5LMwTzJ_ugI2",
   "metadata": {
    "cellView": "form",
    "id": "5LMwTzJ_ugI2"
   },
   "outputs": [],
   "source": [
    "# @title Run GUI\n",
    "# @markdown Pull the latest changes and launch the WebGUI.\n",
    "\n",
    "\n",
    "# Pull latest changes\n",
    "!git pull origin main -q\n",
    "\n",
    "# Run the WebGUI\n",
    "\n",
    "\n",
    "!uv run python ./web_ui.py --colab"
   ]
  }
 ],
 "metadata": {
  "accelerator": "GPU",
  "colab": {
   "gpuType": "T4",
   "include_colab_link": true,
   "provenance": []
  },
  "kernelspec": {
   "display_name": "Python 3",
   "name": "python3"
  },
  "language_info": {
   "name": "python",
   "version": "3.10"
  }
 },
 "nbformat": 4,
 "nbformat_minor": 5
}
